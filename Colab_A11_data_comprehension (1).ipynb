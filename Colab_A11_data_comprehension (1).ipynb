{
  "cells": [
    {
      "cell_type": "markdown",
      "source": [
        "# Data comprehension\n",
        "Practice working with list comprehension, dictionary comprehension and set comprehension following Lec 11"
      ],
      "metadata": {
        "id": "-ZHVRHMui18N"
      }
    },
    {
      "cell_type": "markdown",
      "metadata": {
        "id": "INt5QZg_yTgG"
      },
      "source": [
        "**Ques 1:**\n",
        "You are given the list below, make column 0(the words) the key for a dictionary with the values as the rest of the list.\n",
        "\n",
        "```\n",
        "list_pos = [\n",
        "    ['drawer', 141, 2, 3],\n",
        "    ['hedge', 213, 1, 6],\n",
        "    ['pantry', 328, 1, 7]\n",
        "]\n",
        "\n",
        "list_pos\n",
        "\n",
        "# You output should be:\n",
        "\n",
        "{'drawer': [141, 2, 3], 'hedge': [213, 1, 6], 'pantry': [328, 1, 7]}\n",
        "\n",
        "```\n",
        "\n",
        "Requirement: Do both traditional loops and list comprehensions.\n"
      ]
    },
    {
      "cell_type": "code",
      "execution_count": 1,
      "metadata": {
        "colab": {
          "base_uri": "https://localhost:8080/"
        },
        "id": "dX7uE78eyTgD",
        "outputId": "6fd1a9aa-58d5-45a8-e895-4814e4543339"
      },
      "outputs": [
        {
          "output_type": "execute_result",
          "data": {
            "text/plain": [
              "[['drawer', 141, 2, 3], ['hedge', 213, 1, 6], ['pantry', 328, 1, 7]]"
            ]
          },
          "metadata": {},
          "execution_count": 1
        }
      ],
      "source": [
        "#postion of a word in a dictionary\n",
        "list_pos = [\n",
        "    ['drawer', 141, 2, 3],\n",
        "    ['hedge', 213, 1, 6],\n",
        "    ['pantry', 328, 1, 7]\n",
        "]\n",
        "\n",
        "list_pos"
      ]
    },
    {
      "cell_type": "code",
      "source": [
        "list_pos = [\n",
        "    ['drawer', 141, 2, 3],\n",
        "    ['hedge', 213, 1, 6],\n",
        "    ['pantry', 328, 1, 7]\n",
        "]\n",
        "\n",
        "# Traditional loop method\n",
        "dict_pos = {}\n",
        "for item in list_pos:\n",
        "    dict_pos[item[0]] = item[1:]\n",
        "\n",
        "print(dict_pos)\n"
      ],
      "metadata": {
        "id": "s2cCUs6PWCtf",
        "colab": {
          "base_uri": "https://localhost:8080/"
        },
        "outputId": "4f972880-dc43-4a6c-ebe0-8e9b72a9ca76"
      },
      "execution_count": 3,
      "outputs": [
        {
          "output_type": "stream",
          "name": "stdout",
          "text": [
            "{'drawer': [141, 2, 3], 'hedge': [213, 1, 6], 'pantry': [328, 1, 7]}\n"
          ]
        }
      ]
    },
    {
      "cell_type": "markdown",
      "source": [
        "**Ques 2:** You are given the dictionary below, combine the keys(the words) and the values inside the dictionary and create a list.\n",
        "\n",
        "You output should be:\n",
        "\n",
        "\n",
        "\n",
        "```\n",
        "dictionary_pos = {\n",
        "    'drawer': [141, 2, 3],\n",
        "    'hedge': [213, 1, 6],\n",
        "    'pantry': [328, 1, 7]\n",
        "}\n",
        "\n",
        "dictionary_pos\n",
        "\n",
        "# Your output should:\n",
        "\n",
        "[['drawer', 141, 2, 3], ['hedge', 213, 1, 6], ['pantry', 328, 1, 7]]\n",
        "```\n",
        "\n",
        "Requirement: Do both traditional loops and list comprehensions."
      ],
      "metadata": {
        "id": "kPV7FgpUHdt-"
      }
    },
    {
      "cell_type": "code",
      "execution_count": 5,
      "metadata": {
        "id": "VL-scbyryTgJ",
        "colab": {
          "base_uri": "https://localhost:8080/"
        },
        "outputId": "f2658162-d7a4-4a41-a968-d76a5bd250df"
      },
      "outputs": [
        {
          "output_type": "execute_result",
          "data": {
            "text/plain": [
              "{'drawer': [141, 2, 3], 'hedge': [213, 1, 6], 'pantry': [328, 1, 7]}"
            ]
          },
          "metadata": {},
          "execution_count": 5
        }
      ],
      "source": [
        "#Your turn:\n",
        "#postion of a word in a dictionary\n",
        "dictionary_pos = {\n",
        "    'drawer': [141, 2, 3],\n",
        "    'hedge': [213, 1, 6],\n",
        "    'pantry': [328, 1, 7]\n",
        "}\n",
        "\n",
        "dictionary_pos"
      ]
    },
    {
      "cell_type": "code",
      "execution_count": 4,
      "metadata": {
        "id": "KfZIsa9DyTgK",
        "colab": {
          "base_uri": "https://localhost:8080/"
        },
        "outputId": "8472d8a2-2295-4e0e-ce86-558bed388066"
      },
      "outputs": [
        {
          "output_type": "stream",
          "name": "stdout",
          "text": [
            "[['drawer', 141, 2, 3], ['hedge', 213, 1, 6], ['pantry', 328, 1, 7]]\n"
          ]
        }
      ],
      "source": [
        "dictionary_pos = {\n",
        "    'drawer': [141, 2, 3],\n",
        "    'hedge': [213, 1, 6],\n",
        "    'pantry': [328, 1, 7]\n",
        "}\n",
        "\n",
        "# Traditional loop method\n",
        "list_pos = []\n",
        "for key, value in dictionary_pos.items():\n",
        "    list_pos.append([key] + value)\n",
        "\n",
        "print(list_pos)\n"
      ]
    },
    {
      "cell_type": "markdown",
      "source": [
        "**Ques 3:** Use list comprehension to rewrite the code, it can be done in one line (and you do not even need an if statement)\n",
        "\n",
        "```\n",
        "result = []\n",
        "myList = list(range(0, 13))\n",
        "for i in range(6, len(myList)):\n",
        "    if i%2 == 0:\n",
        "        result.append(i)\n",
        "\n",
        "result\n",
        "```\n",
        "\n"
      ],
      "metadata": {
        "id": "cvER6YXv4Id5"
      }
    },
    {
      "cell_type": "code",
      "execution_count": 6,
      "metadata": {
        "id": "HGOnba_myTgM",
        "colab": {
          "base_uri": "https://localhost:8080/"
        },
        "outputId": "9eb7b5d7-e6eb-42a7-c221-f3fc4a543913"
      },
      "outputs": [
        {
          "output_type": "stream",
          "name": "stdout",
          "text": [
            "[6, 8, 10, 12]\n"
          ]
        }
      ],
      "source": [
        "result = [i for i in range(6, 13, 2)]\n",
        "print(result)\n"
      ]
    },
    {
      "cell_type": "markdown",
      "source": [
        "**Ques 4a:** Use the following code to perform the tasks given below:\n",
        "\n",
        "\n",
        "\n",
        "```\n",
        "set_a = {1, 2, 3, \"a\", \"b\", \"c\"}\n",
        "set_b = {2, 3, 4, \"c\", \"d\"}\n",
        "set_c = {2, 3, 'd', \"t\", \"a\"}\n",
        "```\n",
        "\n"
      ],
      "metadata": {
        "id": "H7IAbiwH4i-D"
      }
    },
    {
      "cell_type": "code",
      "execution_count": 9,
      "metadata": {
        "id": "CvrNavspyTgN",
        "colab": {
          "base_uri": "https://localhost:8080/"
        },
        "outputId": "7abc428b-2227-414a-f9d8-cb9b9408f2b7"
      },
      "outputs": [
        {
          "output_type": "stream",
          "name": "stdout",
          "text": [
            "{'d', 't'}\n"
          ]
        }
      ],
      "source": [
        "# The follow code is supposed to return the different elements in both sets of union_ab and set_a but not both of them.\n",
        "set_a = {1, 2, 3, \"a\", \"b\", \"c\"}\n",
        "set_c = {2, 3, 'd', \"t\", \"a\"}\n",
        "\n",
        "result = set_c - set_a\n",
        "print(result)\n"
      ]
    },
    {
      "cell_type": "code",
      "source": [
        "# Elements that occur just in set c and not in set a\n",
        "set_a = {1, 2, 3, \"a\", \"b\", \"c\"}\n",
        "set_b = {2, 3, 4, \"c\", \"d\"}\n",
        "\n",
        "union_ab = set_a.union(set_b)\n",
        "result = union_ab.symmetric_difference(set_a)\n",
        "\n",
        "print(result)\n"
      ],
      "metadata": {
        "colab": {
          "base_uri": "https://localhost:8080/"
        },
        "id": "iL4GrbZknT_y",
        "outputId": "bea993f9-d8d0-44b2-cb66-f186e67e1d78"
      },
      "execution_count": 8,
      "outputs": [
        {
          "output_type": "stream",
          "name": "stdout",
          "text": [
            "{'d', 4}\n"
          ]
        }
      ]
    },
    {
      "cell_type": "markdown",
      "source": [
        "**Ques 4b:** This piece of code will work the same as which of the following options:\n",
        "\n",
        "\n",
        "```\n",
        "difference_A = []\n",
        "for a in set_c:\n",
        "  if(not(a in set_a)):\n",
        "    difference_A.append(a)\n",
        "\n",
        "print(difference_A)\n",
        "```\n",
        "\n"
      ],
      "metadata": {
        "id": "E7LmZQwT5Mhr"
      }
    },
    {
      "cell_type": "code",
      "execution_count": 10,
      "metadata": {
        "id": "FvUCzqZuyTgN",
        "colab": {
          "base_uri": "https://localhost:8080/"
        },
        "outputId": "a234c48f-a5e5-444c-97e2-904b6e97ac10"
      },
      "outputs": [
        {
          "output_type": "stream",
          "name": "stdout",
          "text": [
            "['d', 't']\n"
          ]
        }
      ],
      "source": [
        "#Rewrite the code:\n",
        "\n",
        "#A) difference = union_ab | set_a\n",
        "\n",
        "#B) difference = set_a - union_ab\n",
        "difference = set_c - set_a\n",
        "print(list(difference))\n",
        "\n",
        "\n",
        "#C) difference = union_ab ^ set_a\n"
      ]
    },
    {
      "cell_type": "markdown",
      "metadata": {
        "id": "i1TTuNdgyTgO"
      },
      "source": [
        "**Ques 5:** A procedural function called GC_content(data).\n",
        "Find the GC percentage for each of the elements in dna_list.\n",
        "data is the list, dna_list."
      ]
    },
    {
      "cell_type": "code",
      "execution_count": 11,
      "metadata": {
        "id": "awvBHjfFyTgO",
        "colab": {
          "base_uri": "https://localhost:8080/"
        },
        "outputId": "c2105a51-2874-40e0-9d06-31efe69964b5"
      },
      "outputs": [
        {
          "output_type": "stream",
          "name": "stdout",
          "text": [
            "[50.0, 50.0, 50.0, 60.0]\n"
          ]
        }
      ],
      "source": [
        "def GC_content(data):\n",
        "    return [(seq.count('G') + seq.count('C')) / len(seq) * 100 for seq in data]\n",
        "\n",
        "dna_list = ['GAAGTC', 'CGATATGC', 'GTCA', 'CGGACAGTAG']\n",
        "result = GC_content(dna_list)\n",
        "\n",
        "print(result)\n"
      ]
    },
    {
      "cell_type": "code",
      "execution_count": 12,
      "metadata": {
        "id": "NL90n2TOyTgO",
        "colab": {
          "base_uri": "https://localhost:8080/"
        },
        "outputId": "68a52312-b557-42be-b8f7-f5a726494189"
      },
      "outputs": [
        {
          "output_type": "stream",
          "name": "stdout",
          "text": [
            "[50.0, 50.0, 50.0, 60.0]\n"
          ]
        }
      ],
      "source": [
        "def GC_content(data):\n",
        "    gc_percentages = []\n",
        "    for seq in data:\n",
        "        gc_count = seq.count('G') + seq.count('C')\n",
        "        gc_percentage = (gc_count / len(seq)) * 100\n",
        "        gc_percentages.append(gc_percentage)\n",
        "    return gc_percentages\n",
        "\n",
        "dna_list = ['GAAGTC', 'CGATATGC', 'GTCA', 'CGGACAGTAG']\n",
        "print(GC_content(dna_list))\n"
      ]
    }
  ],
  "metadata": {
    "hide_input": false,
    "kernelspec": {
      "display_name": "Python 3",
      "language": "python",
      "name": "python3"
    },
    "language_info": {
      "codemirror_mode": {
        "name": "ipython",
        "version": 3
      },
      "file_extension": ".py",
      "mimetype": "text/x-python",
      "name": "python",
      "nbconvert_exporter": "python",
      "pygments_lexer": "ipython3",
      "version": "3.8.3"
    },
    "toc": {
      "base_numbering": 1,
      "nav_menu": {},
      "number_sections": true,
      "sideBar": true,
      "skip_h1_title": false,
      "title_cell": "Table of Contents",
      "title_sidebar": "Contents",
      "toc_cell": false,
      "toc_position": {},
      "toc_section_display": true,
      "toc_window_display": false
    },
    "colab": {
      "provenance": []
    }
  },
  "nbformat": 4,
  "nbformat_minor": 0
}